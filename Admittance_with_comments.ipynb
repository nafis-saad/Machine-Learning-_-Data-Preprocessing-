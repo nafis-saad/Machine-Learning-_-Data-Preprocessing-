{
  "cells": [
    {
      "cell_type": "markdown",
      "metadata": {
        "id": "view-in-github",
        "colab_type": "text"
      },
      "source": [
        "<a href=\"https://colab.research.google.com/github/nafis-saad/Machine-Learning-_-Data-Preprocessing-/blob/main/Admittance_with_comments.ipynb\" target=\"_parent\"><img src=\"https://colab.research.google.com/assets/colab-badge.svg\" alt=\"Open In Colab\"/></a>"
      ]
    },
    {
      "cell_type": "markdown",
      "metadata": {
        "id": "gJ3hNiHvFc7L"
      },
      "source": [
        "# Basics of logistic regression"
      ]
    },
    {
      "cell_type": "markdown",
      "metadata": {
        "id": "jSQS-E5_Fc7P"
      },
      "source": [
        "## Import the relevant libraries"
      ]
    },
    {
      "cell_type": "code",
      "execution_count": null,
      "metadata": {
        "id": "W1kV9BNPFc7Q"
      },
      "outputs": [],
      "source": [
        "import numpy as np\n",
        "import pandas as pd\n",
        "import statsmodels.api as sm\n",
        "import matplotlib.pyplot as plt\n",
        "import seaborn as sns\n",
        "sns.set()"
      ]
    },
    {
      "cell_type": "markdown",
      "metadata": {
        "id": "JVtEYrGLFc7R"
      },
      "source": [
        "## Load the data"
      ]
    },
    {
      "cell_type": "code",
      "execution_count": null,
      "metadata": {
        "scrolled": true,
        "id": "ua8QoNXbFc7R"
      },
      "outputs": [],
      "source": [
        "raw_data = pd.read_csv('2.01. Admittance.csv')\n",
        "raw_data"
      ]
    },
    {
      "cell_type": "code",
      "execution_count": null,
      "metadata": {
        "scrolled": true,
        "id": "xW9gbjKuFc7R"
      },
      "outputs": [],
      "source": [
        "# Replace all No entries with 0, and all Yes entries with 1\n",
        "data = raw_data.copy()\n",
        "data['Admitted'] = data['Admitted'].map({'Yes': 1, 'No': 0})\n",
        "data"
      ]
    },
    {
      "cell_type": "markdown",
      "metadata": {
        "id": "wGEV93IYFc7S"
      },
      "source": [
        "## Variables"
      ]
    },
    {
      "cell_type": "code",
      "execution_count": null,
      "metadata": {
        "id": "0LjtnTvBFc7S"
      },
      "outputs": [],
      "source": [
        "# Create the dependent and independent variables\n",
        "y = data['Admitted']\n",
        "x1 = data['SAT']"
      ]
    },
    {
      "cell_type": "markdown",
      "metadata": {
        "id": "s86tDbknFc7S"
      },
      "source": [
        "## Let's plot the data"
      ]
    },
    {
      "cell_type": "markdown",
      "metadata": {
        "id": "WFbrElNoFc7T"
      },
      "source": [
        "### Scatter plot"
      ]
    },
    {
      "cell_type": "code",
      "execution_count": null,
      "metadata": {
        "id": "HzjpQ0ETFc7U"
      },
      "outputs": [],
      "source": [
        "# Create a scatter plot of x1 (SAT, no constant) and y (Admitted)\n",
        "plt.scatter(x1,y, color='C0')\n",
        "# Don't forget to label your axes!\n",
        "plt.xlabel('SAT', fontsize = 20)\n",
        "plt.ylabel('Admitted', fontsize = 20)\n",
        "plt.show()"
      ]
    },
    {
      "cell_type": "markdown",
      "metadata": {
        "id": "N32WTgOcFc7U"
      },
      "source": [
        "### Plot with a regression line"
      ]
    },
    {
      "cell_type": "code",
      "execution_count": null,
      "metadata": {
        "id": "L-j6-Rp5Fc7U"
      },
      "outputs": [],
      "source": [
        "# Create a linear regression on the data in order to estimate the coefficients and be able to plot a regression line\n",
        "# The data is not linear, so the linear regression doesn't make much sense\n",
        "x = sm.add_constant(x1)\n",
        "# I'll call it reg_lin, instead of reg, as we will be dealing with logistic regressions later on\n",
        "reg_lin = sm.OLS(y,x)\n",
        "# I'll segment it into regression and fitted regression (results) as I can use the results as an object for some operations\n",
        "results_lin = reg_lin.fit()\n",
        "\n",
        "# Create a scatter plot\n",
        "plt.scatter(x1,y,color = 'C0')\n",
        "# Plot the regression line. The coefficients are coming from results_lin.params\n",
        "y_hat = x1*results_lin.params[1]+results_lin.params[0]\n",
        "plt.plot(x1,y_hat,lw=2.5,color='C8')\n",
        "plt.xlabel('SAT', fontsize = 20)\n",
        "plt.ylabel('Admitted', fontsize = 20)\n",
        "plt.show()"
      ]
    },
    {
      "cell_type": "markdown",
      "metadata": {
        "id": "GjdmkeEDFc7V"
      },
      "source": [
        "### Plot a logistic regression curve"
      ]
    },
    {
      "cell_type": "code",
      "execution_count": null,
      "metadata": {
        "id": "a4Riw8wfFc7V"
      },
      "outputs": [],
      "source": [
        "reg_log = sm.Logit(y,x)\n",
        "results_log = reg_log.fit()\n",
        "\n",
        "def f(x,b0,b1):\n",
        "    return np.array(np.exp(b0+x*b1) / (1 + np.exp(b0+x*b1)))\n",
        "\n",
        "f_sorted = np.sort(f(x1,results_log.params[0],results_log.params[1]))\n",
        "x_sorted = np.sort(np.array(x1))\n",
        "\n",
        "plt.scatter(x1,y,color='C0')\n",
        "plt.xlabel('SAT', fontsize = 20)\n",
        "plt.ylabel('Admitted', fontsize = 20)\n",
        "plt.plot(x_sorted,f_sorted,color='C8')\n",
        "plt.show()"
      ]
    },
    {
      "cell_type": "code",
      "execution_count": null,
      "metadata": {
        "id": "EX7vrEXQFc7V"
      },
      "outputs": [],
      "source": [
        "# Creating a logit regression (we will discuss this in another notebook)\n",
        "reg_log = sm.Logit(y,x)\n",
        "# Fitting the regression\n",
        "results_log = reg_log.fit()\n",
        "\n",
        "# Creating a logit function, depending on the input and coefficients\n",
        "def f(x,b0,b1):\n",
        "    return np.array(np.exp(b0+x*b1) / (1 + np.exp(b0+x*b1)))\n",
        "\n",
        "# Sorting the y and x, so we can plot the curve\n",
        "f_sorted = np.sort(f(x1,results_log.params[0],results_log.params[1]))\n",
        "x_sorted = np.sort(np.array(x1))\n",
        "plt.scatter(x1,y,color='C0')\n",
        "plt.xlabel('SAT', fontsize = 20)\n",
        "plt.ylabel('Admitted', fontsize = 20)\n",
        "# Plotting the curve\n",
        "plt.plot(x_sorted,f_sorted,color='C8')\n",
        "plt.show()"
      ]
    },
    {
      "cell_type": "code",
      "execution_count": null,
      "metadata": {
        "id": "KdQbwQg3Fc7W"
      },
      "outputs": [],
      "source": [
        ""
      ]
    }
  ],
  "metadata": {
    "kernelspec": {
      "display_name": "Python 3",
      "language": "python",
      "name": "python3"
    },
    "language_info": {
      "codemirror_mode": {
        "name": "ipython",
        "version": 3
      },
      "file_extension": ".py",
      "mimetype": "text/x-python",
      "name": "python",
      "nbconvert_exporter": "python",
      "pygments_lexer": "ipython3",
      "version": "3.6.4"
    },
    "colab": {
      "name": "Admittance_with_comments.ipynb",
      "provenance": [],
      "include_colab_link": true
    }
  },
  "nbformat": 4,
  "nbformat_minor": 0
}